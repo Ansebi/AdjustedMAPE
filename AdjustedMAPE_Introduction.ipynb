{
  "nbformat": 4,
  "nbformat_minor": 0,
  "metadata": {
    "colab": {
      "provenance": [],
      "authorship_tag": "ABX9TyMeceyLS2Z7EPza542ulmsT",
      "include_colab_link": true
    },
    "kernelspec": {
      "name": "python3",
      "display_name": "Python 3"
    },
    "language_info": {
      "name": "python"
    }
  },
  "cells": [
    {
      "cell_type": "markdown",
      "metadata": {
        "id": "view-in-github",
        "colab_type": "text"
      },
      "source": [
        "<a href=\"https://colab.research.google.com/github/Ansebi/AdjustedMAPE/blob/main/AdjustedMAPE_Introduction.ipynb\" target=\"_parent\"><img src=\"https://colab.research.google.com/assets/colab-badge.svg\" alt=\"Open In Colab\"/></a>"
      ]
    },
    {
      "cell_type": "markdown",
      "source": [
        "#Imports"
      ],
      "metadata": {
        "id": "3poZYUJu08YP"
      }
    },
    {
      "cell_type": "code",
      "source": [
        "from sklearn.metrics import mean_absolute_percentage_error\n",
        "import numpy as np\n",
        "from matplotlib import pyplot as plt"
      ],
      "metadata": {
        "id": "YHxwRN7L0a8r"
      },
      "execution_count": 270,
      "outputs": []
    },
    {
      "cell_type": "markdown",
      "source": [
        "# Definitions"
      ],
      "metadata": {
        "id": "oAntRkh81B9D"
      }
    },
    {
      "cell_type": "code",
      "source": [
        "def nomalize_minmax_reference(reference, sequence):\n",
        "  return (sequence - reference.min()) / (reference.max() - reference.min())"
      ],
      "metadata": {
        "id": "aMPW71G00mdu"
      },
      "execution_count": 271,
      "outputs": []
    },
    {
      "cell_type": "code",
      "source": [
        "def get_adjusted_mape_bias(y_: np.array):\n",
        "  return (y_- y_.min()).mean() - y_.min()"
      ],
      "metadata": {
        "id": "_OxRku4l0k5u"
      },
      "execution_count": 272,
      "outputs": []
    },
    {
      "cell_type": "code",
      "source": [
        "def adjusted_mape(\n",
        "    y_true: np.array,\n",
        "    y_pred: np.array,\n",
        "    true_scope=None):\n",
        "  if not true_scope:\n",
        "    true_scope = y_true\n",
        "  amape_bias = get_adjusted_mape_bias(true_scope)\n",
        "  amape = 100 * mean_absolute_percentage_error(\n",
        "      y_true + amape_bias,\n",
        "      y_pred + amape_bias\n",
        "      )\n",
        "  return amape"
      ],
      "metadata": {
        "id": "PXqJluek00U9"
      },
      "execution_count": 273,
      "outputs": []
    },
    {
      "cell_type": "markdown",
      "source": [
        "# Introduction to AdjustedMAPE"
      ],
      "metadata": {
        "id": "a6LNzzTA53QT"
      }
    },
    {
      "cell_type": "markdown",
      "source": [
        "## Small example"
      ],
      "metadata": {
        "id": "_zyXfTna1nqs"
      }
    },
    {
      "cell_type": "code",
      "execution_count": 274,
      "metadata": {
        "id": "8Pkk5Pywi9rA"
      },
      "outputs": [],
      "source": [
        "real = np.array([10,20,30,40,50])\n",
        "pred = np.array([11,22,33,44,55])"
      ]
    },
    {
      "cell_type": "code",
      "source": [
        "plt.title('Data and predictions (Original)')\n",
        "plt.plot(range(len(real)), real, label='real')\n",
        "plt.plot(range(len(real)), pred, label='pred')\n",
        "plt.legend()\n",
        "plt.show()"
      ],
      "metadata": {
        "colab": {
          "base_uri": "https://localhost:8080/",
          "height": 281
        },
        "id": "HQeN3zvz1zPW",
        "outputId": "a5d01d95-4372-40b9-f065-1204dd36ec6d"
      },
      "execution_count": 275,
      "outputs": [
        {
          "output_type": "display_data",
          "data": {
            "text/plain": [
              "<Figure size 432x288 with 1 Axes>"
            ],
            "image/png": "[encoded data removed]"
          },
          "metadata": {
            "needs_background": "light"
          }
        }
      ]
    },
    {
      "cell_type": "code",
      "source": [
        "mape = 100 * mean_absolute_percentage_error(real, pred)\n",
        "print(f\"MAPE: {mape:.1f}%\")"
      ],
      "metadata": {
        "colab": {
          "base_uri": "https://localhost:8080/"
        },
        "id": "jI2GSPvc1kNc",
        "outputId": "231d7eb0-7f3c-402e-ffc9-568c6ef86517"
      },
      "execution_count": 276,
      "outputs": [
        {
          "output_type": "stream",
          "name": "stdout",
          "text": [
            "MAPE: 10.0%\n"
          ]
        }
      ]
    },
    {
      "cell_type": "code",
      "source": [
        "amape = adjusted_mape(real, pred)\n",
        "print(f\"AMAPE: {amape:.1f}%\")"
      ],
      "metadata": {
        "colab": {
          "base_uri": "https://localhost:8080/"
        },
        "id": "0jr-5cIL1hVB",
        "outputId": "896c6fe8-ad84-42a2-947a-a7d92e0ec287"
      },
      "execution_count": 277,
      "outputs": [
        {
          "output_type": "stream",
          "name": "stdout",
          "text": [
            "AMAPE: 7.1%\n"
          ]
        }
      ]
    },
    {
      "cell_type": "markdown",
      "source": [
        "## What if we normalize the data?"
      ],
      "metadata": {
        "id": "RL0xKIMv2W3N"
      }
    },
    {
      "cell_type": "code",
      "source": [
        "real_norm = nomalize_minmax_reference(real, real)\n",
        "pred_norm = nomalize_minmax_reference(real, pred)\n",
        "print(f\"Real observations normalized: {'   '.join([str(i) for i in real_norm])}\")\n",
        "print(f\"Predicted values normalized: {'   '.join([str(i) for i in pred_norm])}\")"
      ],
      "metadata": {
        "colab": {
          "base_uri": "https://localhost:8080/"
        },
        "id": "F_We-Egq2TC0",
        "outputId": "13fff086-2036-4a72-c19e-9e42c8109d91"
      },
      "execution_count": 278,
      "outputs": [
        {
          "output_type": "stream",
          "name": "stdout",
          "text": [
            "Real observations normalized: 0.0   0.25   0.5   0.75   1.0\n",
            "Predicted values normalized: 0.025   0.3   0.575   0.85   1.125\n"
          ]
        }
      ]
    },
    {
      "cell_type": "code",
      "source": [
        "plt.title('Normalized data and predictions (Same Picture)')\n",
        "plt.plot(range(len(real)), real_norm, label='real')\n",
        "plt.plot(range(len(real)), pred_norm, label='pred')\n",
        "plt.legend()\n",
        "plt.show()"
      ],
      "metadata": {
        "colab": {
          "base_uri": "https://localhost:8080/",
          "height": 281
        },
        "id": "Q6q2TJbd3xzo",
        "outputId": "ce32f33f-e098-4e2c-b18f-e7d04b5d681b"
      },
      "execution_count": 279,
      "outputs": [
        {
          "output_type": "display_data",
          "data": {
            "text/plain": [
              "<Figure size 432x288 with 1 Axes>"
            ],
            "image/png": "[encoded data removed]"
          },
          "metadata": {
            "needs_background": "light"
          }
        }
      ]
    },
    {
      "cell_type": "code",
      "source": [
        "# @title Here comes the problem:\n",
        "mape_norm = 100 * mean_absolute_percentage_error(real_norm, pred_norm)\n",
        "print(f\"Normalized data MAPE: {mape_norm:.1f}%\")"
      ],
      "metadata": {
        "colab": {
          "base_uri": "https://localhost:8080/"
        },
        "id": "facuvczI4GIy",
        "outputId": "d3ab0d03-3cf0-4170-eb2a-108411ce7056"
      },
      "execution_count": 280,
      "outputs": [
        {
          "output_type": "stream",
          "name": "stdout",
          "text": [
            "Normalized data MAPE: 2251799813685260.5%\n"
          ]
        }
      ]
    },
    {
      "cell_type": "code",
      "source": [
        "# @title AMAPE remains adequate.<br>It evaluates the normalized rate of error...<br>thus solving two problems at one time.\n",
        "amape_norm = adjusted_mape(real_norm, pred_norm)\n",
        "print(f\"Normalized data AMAPE: {amape_norm:.1f}%\")"
      ],
      "metadata": {
        "colab": {
          "base_uri": "https://localhost:8080/"
        },
        "id": "AkGwdmUR4ZEi",
        "outputId": "8478584a-6537-4bb1-87d2-d31c3d41f982"
      },
      "execution_count": 281,
      "outputs": [
        {
          "output_type": "stream",
          "name": "stdout",
          "text": [
            "Normalized data AMAPE: 7.1%\n"
          ]
        }
      ]
    },
    {
      "cell_type": "markdown",
      "source": [
        "## Test extreme cases"
      ],
      "metadata": {
        "id": "my-3cAhYFXXu"
      }
    },
    {
      "cell_type": "code",
      "source": [
        "# @title there are situations when AMAPE is not enough...\n",
        "real = np.array([0,1])\n",
        "pred = np.array([1,1])\n",
        "\n",
        "mape = 100 * mean_absolute_percentage_error(real, pred)\n",
        "print(f\"MAPE: {mape:.1f}%\")\n",
        "amape = adjusted_mape(real, pred)\n",
        "print(f\"AMAPE: {amape:.1f}%\")"
      ],
      "metadata": {
        "colab": {
          "base_uri": "https://localhost:8080/"
        },
        "id": "tt4gPNvCXX1o",
        "outputId": "8d3ddf07-5cb0-4ac8-ca84-b051a313f9d9"
      },
      "execution_count": 282,
      "outputs": [
        {
          "output_type": "stream",
          "name": "stdout",
          "text": [
            "MAPE: 225179981368524800.0%\n",
            "AMAPE: 100.0%\n"
          ]
        }
      ]
    },
    {
      "cell_type": "code",
      "source": [
        "def bulletproof_mape(\n",
        "    y_true: np.array,\n",
        "    y_pred: np.array,\n",
        "    true_scope=None):\n",
        "  if not true_scope:\n",
        "    true_scope = y_true\n",
        "  amape_bias = get_adjusted_mape_bias(true_scope)\n",
        "  amape = 100 * mean_absolute_percentage_error(\n",
        "      y_true + amape_bias + y_true.mean()/len(y_true),\n",
        "      y_pred + amape_bias + y_true.mean()/len(y_true)\n",
        "      )\n",
        "  return amape"
      ],
      "metadata": {
        "id": "x0otb-s9J6Ni"
      },
      "execution_count": 283,
      "outputs": []
    },
    {
      "cell_type": "code",
      "source": [
        "real = np.array([0,1])\n",
        "pred = np.array([1,1])\n",
        "\n",
        "mape = 100 * mean_absolute_percentage_error(real, pred)\n",
        "print(f\"MAPE: {mape:.1f}%\")\n",
        "amape = adjusted_mape(real, pred)\n",
        "print(f\"AMAPE: {amape:.1f}%\")\n",
        "bamape = bulletproof_mape(real, pred)\n",
        "print(f\"BAMAPE: {bamape:.1f}%\")"
      ],
      "metadata": {
        "colab": {
          "base_uri": "https://localhost:8080/"
        },
        "id": "5sM3ZjxUXVgL",
        "outputId": "dab2c3b9-8857-4568-c76f-bbb61bef363f"
      },
      "execution_count": 284,
      "outputs": [
        {
          "output_type": "stream",
          "name": "stdout",
          "text": [
            "MAPE: 225179981368524800.0%\n",
            "AMAPE: 100.0%\n",
            "BAMAPE: 66.7%\n"
          ]
        }
      ]
    },
    {
      "cell_type": "code",
      "source": [
        "real = np.array([0,0,0,0,10,12,12,0,0,0,0])\n",
        "pred = np.array([0.1,1,1,1,10,12,12,1,-1,1,-1])\n",
        "mape = 100 * mean_absolute_percentage_error(real, pred)\n",
        "print(f\"MAPE: {mape:.1f}%\")\n",
        "amape = adjusted_mape(real, pred)\n",
        "print(f\"AMAPE: {amape:.1f}%\")"
      ],
      "metadata": {
        "colab": {
          "base_uri": "https://localhost:8080/"
        },
        "id": "NX4k56qFUUlY",
        "outputId": "cb1986fb-9b23-430e-f4cd-9c24f400bf24"
      },
      "execution_count": 285,
      "outputs": [
        {
          "output_type": "stream",
          "name": "stdout",
          "text": [
            "MAPE: 290686885039368320.0%\n",
            "AMAPE: 20.9%\n"
          ]
        }
      ]
    },
    {
      "cell_type": "code",
      "source": [
        "real = np.array([0,0,0,0,10,12,12,0,0,0,0])\n",
        "pred = np.array([0.1,1,1,1,10,12,12,1,-1,1,-1])\n",
        "mape = 100 * mean_absolute_percentage_error(real, pred)\n",
        "print(f\"MAPE: {mape:.1f}%\")\n",
        "amape = adjusted_mape(real, pred)\n",
        "print(f\"AMAPE: {amape:.1f}%\")\n",
        "bamape = bulletproof_mape(real, pred)\n",
        "print(f\"BAMAPE: {bamape:.1f}%\")"
      ],
      "metadata": {
        "colab": {
          "base_uri": "https://localhost:8080/"
        },
        "id": "J909Hxr9XAOe",
        "outputId": "db2450ab-dda7-4a3c-c4fd-9a44b515a4de"
      },
      "execution_count": 286,
      "outputs": [
        {
          "output_type": "stream",
          "name": "stdout",
          "text": [
            "MAPE: 290686885039368320.0%\n",
            "AMAPE: 20.9%\n",
            "BAMAPE: 19.1%\n"
          ]
        }
      ]
    },
    {
      "cell_type": "code",
      "source": [
        "real = np.array([0,0,0,10])\n",
        "pred = np.array([10,20,30,40])\n",
        "\n",
        "mape = 100 * mean_absolute_percentage_error(real, pred)\n",
        "print(f\"MAPE: {mape:.1f}%\")\n",
        "amape = adjusted_mape(real, pred)\n",
        "print(f\"AMAPE: {amape:.1f}%\")\n",
        "bamape = bulletproof_mape(real, pred)\n",
        "print(f\"BAMAPE: {bamape:.1f}%\")"
      ],
      "metadata": {
        "colab": {
          "base_uri": "https://localhost:8080/"
        },
        "id": "mS-uh8HBU6kk",
        "outputId": "3868924d-0e96-4e65-999c-d3a1d8ee5811"
      },
      "execution_count": 287,
      "outputs": [
        {
          "output_type": "stream",
          "name": "stdout",
          "text": [
            "MAPE: 6755399441055744000.0%\n",
            "AMAPE: 660.0%\n",
            "BAMAPE: 537.1%\n"
          ]
        }
      ]
    },
    {
      "cell_type": "code",
      "source": [
        "real = np.array([100,200,300,0])\n",
        "pred = np.array([100,200,300,1])\n",
        "\n",
        "mape = 100 * mean_absolute_percentage_error(real, pred)\n",
        "print(f\"MAPE: {mape:.1f}%\")\n",
        "amape = adjusted_mape(real, pred)\n",
        "print(f\"AMAPE: {amape:.1f}%\")\n",
        "bamape = bulletproof_mape(real, pred)\n",
        "print(f\"BAMAPE: {bamape:.1f}%\")"
      ],
      "metadata": {
        "colab": {
          "base_uri": "https://localhost:8080/"
        },
        "id": "r0q-sRouVxnk",
        "outputId": "38b8842e-ad94-4c23-a121-f508476f6274"
      },
      "execution_count": 288,
      "outputs": [
        {
          "output_type": "stream",
          "name": "stdout",
          "text": [
            "MAPE: 112589990684262400.0%\n",
            "AMAPE: 0.2%\n",
            "BAMAPE: 0.1%\n"
          ]
        }
      ]
    },
    {
      "cell_type": "code",
      "source": [
        "error_rate = \"20%\" \n",
        "n = 10\n",
        "factor = 10e-8\n",
        "noise_factor = 2\n",
        "real = np.random.randint(-100, 100, n) * factor\n",
        "noise = (np.random.rand(n) - 0.5) * noise_factor\n",
        "pred = real * (1 + float(error_rate[:-1])/100) * (1 + noise)\n",
        "\n",
        "mape = 100 * mean_absolute_percentage_error(real, pred)\n",
        "print(f\"MAPE: {mape:.1f}%\")\n",
        "amape = adjusted_mape(real, pred)\n",
        "print(f\"AMAPE: {amape:.1f}%\")\n",
        "bamape = bulletproof_mape(real, pred)\n",
        "print(f\"BAMAPE: {bamape:.1f}%\")"
      ],
      "metadata": {
        "colab": {
          "base_uri": "https://localhost:8080/"
        },
        "id": "YMhaJMvjKVDo",
        "outputId": "90cecd1a-9a62-4670-bb73-be42096e53bf"
      },
      "execution_count": 289,
      "outputs": [
        {
          "output_type": "stream",
          "name": "stdout",
          "text": [
            "MAPE: 63.4%\n",
            "AMAPE: 17.7%\n",
            "BAMAPE: 17.6%\n"
          ]
        }
      ]
    }
  ]
}